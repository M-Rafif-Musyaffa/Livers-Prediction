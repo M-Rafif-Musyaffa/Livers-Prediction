{
  "nbformat": 4,
  "nbformat_minor": 0,
  "metadata": {
    "colab": {
      "provenance": []
    },
    "kernelspec": {
      "name": "python3",
      "display_name": "Python 3"
    },
    "language_info": {
      "name": "python"
    }
  },
  "cells": [
    {
      "cell_type": "code",
      "execution_count": null,
      "metadata": {
        "id": "rUNteQvovcmo"
      },
      "outputs": [],
      "source": [
        "import pandas as pd\n",
        "import numpy as np\n",
        "import matplotlib.pyplot as plt\n",
        "import seaborn as sns\n",
        "\n",
        "from sklearn.model_selection import train_test_split\n",
        "\n",
        "import tensorflow as tf\n",
        "from tensorflow.keras.layers import Dense, Activation\n",
        "from tensorflow.keras import Sequential\n",
        "from tensorflow.keras.optimizers import Adam"
      ]
    },
    {
      "cell_type": "code",
      "source": [
        "from google.colab import files\n",
        "files.upload()"
      ],
      "metadata": {
        "colab": {
          "base_uri": "https://localhost:8080/",
          "height": 108
        },
        "id": "DwyxMh39wgJa",
        "outputId": "3c39716e-c2f9-4d45-95b6-6cec6533a562"
      },
      "execution_count": null,
      "outputs": [
        {
          "output_type": "display_data",
          "data": {
            "text/plain": [
              "<IPython.core.display.HTML object>"
            ],
            "text/html": [
              "\n",
              "     <input type=\"file\" id=\"files-36765925-9218-4874-952b-47c36eb4ab68\" name=\"files[]\" multiple disabled\n",
              "        style=\"border:none\" />\n",
              "     <output id=\"result-36765925-9218-4874-952b-47c36eb4ab68\">\n",
              "      Upload widget is only available when the cell has been executed in the\n",
              "      current browser session. Please rerun this cell to enable.\n",
              "      </output>\n",
              "      <script>// Copyright 2017 Google LLC\n",
              "//\n",
              "// Licensed under the Apache License, Version 2.0 (the \"License\");\n",
              "// you may not use this file except in compliance with the License.\n",
              "// You may obtain a copy of the License at\n",
              "//\n",
              "//      http://www.apache.org/licenses/LICENSE-2.0\n",
              "//\n",
              "// Unless required by applicable law or agreed to in writing, software\n",
              "// distributed under the License is distributed on an \"AS IS\" BASIS,\n",
              "// WITHOUT WARRANTIES OR CONDITIONS OF ANY KIND, either express or implied.\n",
              "// See the License for the specific language governing permissions and\n",
              "// limitations under the License.\n",
              "\n",
              "/**\n",
              " * @fileoverview Helpers for google.colab Python module.\n",
              " */\n",
              "(function(scope) {\n",
              "function span(text, styleAttributes = {}) {\n",
              "  const element = document.createElement('span');\n",
              "  element.textContent = text;\n",
              "  for (const key of Object.keys(styleAttributes)) {\n",
              "    element.style[key] = styleAttributes[key];\n",
              "  }\n",
              "  return element;\n",
              "}\n",
              "\n",
              "// Max number of bytes which will be uploaded at a time.\n",
              "const MAX_PAYLOAD_SIZE = 100 * 1024;\n",
              "\n",
              "function _uploadFiles(inputId, outputId) {\n",
              "  const steps = uploadFilesStep(inputId, outputId);\n",
              "  const outputElement = document.getElementById(outputId);\n",
              "  // Cache steps on the outputElement to make it available for the next call\n",
              "  // to uploadFilesContinue from Python.\n",
              "  outputElement.steps = steps;\n",
              "\n",
              "  return _uploadFilesContinue(outputId);\n",
              "}\n",
              "\n",
              "// This is roughly an async generator (not supported in the browser yet),\n",
              "// where there are multiple asynchronous steps and the Python side is going\n",
              "// to poll for completion of each step.\n",
              "// This uses a Promise to block the python side on completion of each step,\n",
              "// then passes the result of the previous step as the input to the next step.\n",
              "function _uploadFilesContinue(outputId) {\n",
              "  const outputElement = document.getElementById(outputId);\n",
              "  const steps = outputElement.steps;\n",
              "\n",
              "  const next = steps.next(outputElement.lastPromiseValue);\n",
              "  return Promise.resolve(next.value.promise).then((value) => {\n",
              "    // Cache the last promise value to make it available to the next\n",
              "    // step of the generator.\n",
              "    outputElement.lastPromiseValue = value;\n",
              "    return next.value.response;\n",
              "  });\n",
              "}\n",
              "\n",
              "/**\n",
              " * Generator function which is called between each async step of the upload\n",
              " * process.\n",
              " * @param {string} inputId Element ID of the input file picker element.\n",
              " * @param {string} outputId Element ID of the output display.\n",
              " * @return {!Iterable<!Object>} Iterable of next steps.\n",
              " */\n",
              "function* uploadFilesStep(inputId, outputId) {\n",
              "  const inputElement = document.getElementById(inputId);\n",
              "  inputElement.disabled = false;\n",
              "\n",
              "  const outputElement = document.getElementById(outputId);\n",
              "  outputElement.innerHTML = '';\n",
              "\n",
              "  const pickedPromise = new Promise((resolve) => {\n",
              "    inputElement.addEventListener('change', (e) => {\n",
              "      resolve(e.target.files);\n",
              "    });\n",
              "  });\n",
              "\n",
              "  const cancel = document.createElement('button');\n",
              "  inputElement.parentElement.appendChild(cancel);\n",
              "  cancel.textContent = 'Cancel upload';\n",
              "  const cancelPromise = new Promise((resolve) => {\n",
              "    cancel.onclick = () => {\n",
              "      resolve(null);\n",
              "    };\n",
              "  });\n",
              "\n",
              "  // Wait for the user to pick the files.\n",
              "  const files = yield {\n",
              "    promise: Promise.race([pickedPromise, cancelPromise]),\n",
              "    response: {\n",
              "      action: 'starting',\n",
              "    }\n",
              "  };\n",
              "\n",
              "  cancel.remove();\n",
              "\n",
              "  // Disable the input element since further picks are not allowed.\n",
              "  inputElement.disabled = true;\n",
              "\n",
              "  if (!files) {\n",
              "    return {\n",
              "      response: {\n",
              "        action: 'complete',\n",
              "      }\n",
              "    };\n",
              "  }\n",
              "\n",
              "  for (const file of files) {\n",
              "    const li = document.createElement('li');\n",
              "    li.append(span(file.name, {fontWeight: 'bold'}));\n",
              "    li.append(span(\n",
              "        `(${file.type || 'n/a'}) - ${file.size} bytes, ` +\n",
              "        `last modified: ${\n",
              "            file.lastModifiedDate ? file.lastModifiedDate.toLocaleDateString() :\n",
              "                                    'n/a'} - `));\n",
              "    const percent = span('0% done');\n",
              "    li.appendChild(percent);\n",
              "\n",
              "    outputElement.appendChild(li);\n",
              "\n",
              "    const fileDataPromise = new Promise((resolve) => {\n",
              "      const reader = new FileReader();\n",
              "      reader.onload = (e) => {\n",
              "        resolve(e.target.result);\n",
              "      };\n",
              "      reader.readAsArrayBuffer(file);\n",
              "    });\n",
              "    // Wait for the data to be ready.\n",
              "    let fileData = yield {\n",
              "      promise: fileDataPromise,\n",
              "      response: {\n",
              "        action: 'continue',\n",
              "      }\n",
              "    };\n",
              "\n",
              "    // Use a chunked sending to avoid message size limits. See b/62115660.\n",
              "    let position = 0;\n",
              "    do {\n",
              "      const length = Math.min(fileData.byteLength - position, MAX_PAYLOAD_SIZE);\n",
              "      const chunk = new Uint8Array(fileData, position, length);\n",
              "      position += length;\n",
              "\n",
              "      const base64 = btoa(String.fromCharCode.apply(null, chunk));\n",
              "      yield {\n",
              "        response: {\n",
              "          action: 'append',\n",
              "          file: file.name,\n",
              "          data: base64,\n",
              "        },\n",
              "      };\n",
              "\n",
              "      let percentDone = fileData.byteLength === 0 ?\n",
              "          100 :\n",
              "          Math.round((position / fileData.byteLength) * 100);\n",
              "      percent.textContent = `${percentDone}% done`;\n",
              "\n",
              "    } while (position < fileData.byteLength);\n",
              "  }\n",
              "\n",
              "  // All done.\n",
              "  yield {\n",
              "    response: {\n",
              "      action: 'complete',\n",
              "    }\n",
              "  };\n",
              "}\n",
              "\n",
              "scope.google = scope.google || {};\n",
              "scope.google.colab = scope.google.colab || {};\n",
              "scope.google.colab._files = {\n",
              "  _uploadFiles,\n",
              "  _uploadFilesContinue,\n",
              "};\n",
              "})(self);\n",
              "</script> "
            ]
          },
          "metadata": {}
        },
        {
          "output_type": "stream",
          "name": "stdout",
          "text": [
            "Saving kaggle.json to kaggle.json\n"
          ]
        },
        {
          "output_type": "execute_result",
          "data": {
            "text/plain": [
              "{'kaggle.json': b'{\"username\":\"rafifmusyaffa\",\"key\":\"ba27a8f755786e75aead78a7b89838bb\"}'}"
            ]
          },
          "metadata": {},
          "execution_count": 2
        }
      ]
    },
    {
      "cell_type": "code",
      "source": [
        "!mkdir -p ~/.kaggle\n",
        "!cp kaggle.json ~/.kaggle/\n",
        "!chmod 600 ~/.kaggle/kaggle.json\n",
        "!ls ~/.kaggle"
      ],
      "metadata": {
        "colab": {
          "base_uri": "https://localhost:8080/"
        },
        "id": "kqokpsRYjKQe",
        "outputId": "0551b5a9-4927-4f63-90cf-ff060bc29b67"
      },
      "execution_count": null,
      "outputs": [
        {
          "output_type": "stream",
          "name": "stdout",
          "text": [
            "kaggle.json\n"
          ]
        }
      ]
    },
    {
      "cell_type": "code",
      "source": [
        "!kaggle datasets download -d rabieelkharoua/predict-liver-disease-1700-records-dataset"
      ],
      "metadata": {
        "colab": {
          "base_uri": "https://localhost:8080/"
        },
        "id": "F8YryqQtjL_u",
        "outputId": "cc4e214f-81c9-4072-8426-e588ac9d3f9a"
      },
      "execution_count": null,
      "outputs": [
        {
          "output_type": "stream",
          "name": "stdout",
          "text": [
            "Dataset URL: https://www.kaggle.com/datasets/rabieelkharoua/predict-liver-disease-1700-records-dataset\n",
            "License(s): Attribution 4.0 International (CC BY 4.0)\n",
            "Downloading predict-liver-disease-1700-records-dataset.zip to /content\n",
            "  0% 0.00/69.6k [00:00<?, ?B/s]\n",
            "100% 69.6k/69.6k [00:00<00:00, 47.5MB/s]\n"
          ]
        }
      ]
    },
    {
      "cell_type": "code",
      "source": [
        "!mkdir predict-liver-disease-dataset\n",
        "!unzip predict-liver-disease-1700-records-dataset.zip -d predict-liver-disease-dataset\n",
        "!ls predict-liver-disease-dataset"
      ],
      "metadata": {
        "colab": {
          "base_uri": "https://localhost:8080/"
        },
        "id": "6blRNmpcjgXW",
        "outputId": "87cccd9e-4d0e-48ea-cc4d-feca410c779c"
      },
      "execution_count": null,
      "outputs": [
        {
          "output_type": "stream",
          "name": "stdout",
          "text": [
            "Archive:  predict-liver-disease-1700-records-dataset.zip\n",
            "  inflating: predict-liver-disease-dataset/Liver_disease_data.csv  \n",
            "Liver_disease_data.csv\n"
          ]
        }
      ]
    },
    {
      "cell_type": "code",
      "source": [
        "df = pd.read_csv('predict-liver-disease-dataset/Liver_disease_data.csv')"
      ],
      "metadata": {
        "id": "HwKdaNfdjQuW"
      },
      "execution_count": null,
      "outputs": []
    },
    {
      "cell_type": "code",
      "source": [
        "df.drop(columns=['Gender'],inplace=True)"
      ],
      "metadata": {
        "id": "gE_Tv7qxwQtX"
      },
      "execution_count": null,
      "outputs": []
    },
    {
      "cell_type": "code",
      "source": [
        "df.head(10)"
      ],
      "metadata": {
        "colab": {
          "base_uri": "https://localhost:8080/",
          "height": 383
        },
        "id": "VN_8Pem6gB5-",
        "outputId": "c904cbac-8163-4130-e04a-cc8c8594deaf"
      },
      "execution_count": null,
      "outputs": [
        {
          "output_type": "execute_result",
          "data": {
            "text/plain": [
              "   Age        BMI  AlcoholConsumption  Smoking  GeneticRisk  PhysicalActivity  \\\n",
              "0   58  35.857584           17.272828        0            1          0.658940   \n",
              "1   71  30.732470            2.201266        0            1          1.670557   \n",
              "2   48  19.971407           18.500944        0            0          9.928308   \n",
              "3   34  16.615417           12.632870        0            0          5.630129   \n",
              "4   62  16.065830            1.087815        0            1          3.566218   \n",
              "5   27  24.285214           12.885134        0            2          2.882027   \n",
              "6   80  21.646278           19.484953        0            1          2.569917   \n",
              "7   40  31.152253            1.396013        0            0          6.641528   \n",
              "8   58  27.483346           11.093754        1            0          4.193878   \n",
              "9   77  21.650482           14.955887        1            1          9.654107   \n",
              "\n",
              "   Diabetes  Hypertension  LiverFunctionTest  Diagnosis  \n",
              "0         0             0          42.734240          1  \n",
              "1         1             0          67.309822          1  \n",
              "2         0             0          63.738956          0  \n",
              "3         0             0          64.555873          1  \n",
              "4         1             0          77.868689          1  \n",
              "5         0             0          50.535064          1  \n",
              "6         0             0          45.527997          0  \n",
              "7         0             0          88.226766          0  \n",
              "8         0             0          37.607603          1  \n",
              "9         0             0          34.419683          1  "
            ],
            "text/html": [
              "\n",
              "  <div id=\"df-c98e6c16-19f5-4866-bb48-f6ce2b294cfc\" class=\"colab-df-container\">\n",
              "    <div>\n",
              "<style scoped>\n",
              "    .dataframe tbody tr th:only-of-type {\n",
              "        vertical-align: middle;\n",
              "    }\n",
              "\n",
              "    .dataframe tbody tr th {\n",
              "        vertical-align: top;\n",
              "    }\n",
              "\n",
              "    .dataframe thead th {\n",
              "        text-align: right;\n",
              "    }\n",
              "</style>\n",
              "<table border=\"1\" class=\"dataframe\">\n",
              "  <thead>\n",
              "    <tr style=\"text-align: right;\">\n",
              "      <th></th>\n",
              "      <th>Age</th>\n",
              "      <th>BMI</th>\n",
              "      <th>AlcoholConsumption</th>\n",
              "      <th>Smoking</th>\n",
              "      <th>GeneticRisk</th>\n",
              "      <th>PhysicalActivity</th>\n",
              "      <th>Diabetes</th>\n",
              "      <th>Hypertension</th>\n",
              "      <th>LiverFunctionTest</th>\n",
              "      <th>Diagnosis</th>\n",
              "    </tr>\n",
              "  </thead>\n",
              "  <tbody>\n",
              "    <tr>\n",
              "      <th>0</th>\n",
              "      <td>58</td>\n",
              "      <td>35.857584</td>\n",
              "      <td>17.272828</td>\n",
              "      <td>0</td>\n",
              "      <td>1</td>\n",
              "      <td>0.658940</td>\n",
              "      <td>0</td>\n",
              "      <td>0</td>\n",
              "      <td>42.734240</td>\n",
              "      <td>1</td>\n",
              "    </tr>\n",
              "    <tr>\n",
              "      <th>1</th>\n",
              "      <td>71</td>\n",
              "      <td>30.732470</td>\n",
              "      <td>2.201266</td>\n",
              "      <td>0</td>\n",
              "      <td>1</td>\n",
              "      <td>1.670557</td>\n",
              "      <td>1</td>\n",
              "      <td>0</td>\n",
              "      <td>67.309822</td>\n",
              "      <td>1</td>\n",
              "    </tr>\n",
              "    <tr>\n",
              "      <th>2</th>\n",
              "      <td>48</td>\n",
              "      <td>19.971407</td>\n",
              "      <td>18.500944</td>\n",
              "      <td>0</td>\n",
              "      <td>0</td>\n",
              "      <td>9.928308</td>\n",
              "      <td>0</td>\n",
              "      <td>0</td>\n",
              "      <td>63.738956</td>\n",
              "      <td>0</td>\n",
              "    </tr>\n",
              "    <tr>\n",
              "      <th>3</th>\n",
              "      <td>34</td>\n",
              "      <td>16.615417</td>\n",
              "      <td>12.632870</td>\n",
              "      <td>0</td>\n",
              "      <td>0</td>\n",
              "      <td>5.630129</td>\n",
              "      <td>0</td>\n",
              "      <td>0</td>\n",
              "      <td>64.555873</td>\n",
              "      <td>1</td>\n",
              "    </tr>\n",
              "    <tr>\n",
              "      <th>4</th>\n",
              "      <td>62</td>\n",
              "      <td>16.065830</td>\n",
              "      <td>1.087815</td>\n",
              "      <td>0</td>\n",
              "      <td>1</td>\n",
              "      <td>3.566218</td>\n",
              "      <td>1</td>\n",
              "      <td>0</td>\n",
              "      <td>77.868689</td>\n",
              "      <td>1</td>\n",
              "    </tr>\n",
              "    <tr>\n",
              "      <th>5</th>\n",
              "      <td>27</td>\n",
              "      <td>24.285214</td>\n",
              "      <td>12.885134</td>\n",
              "      <td>0</td>\n",
              "      <td>2</td>\n",
              "      <td>2.882027</td>\n",
              "      <td>0</td>\n",
              "      <td>0</td>\n",
              "      <td>50.535064</td>\n",
              "      <td>1</td>\n",
              "    </tr>\n",
              "    <tr>\n",
              "      <th>6</th>\n",
              "      <td>80</td>\n",
              "      <td>21.646278</td>\n",
              "      <td>19.484953</td>\n",
              "      <td>0</td>\n",
              "      <td>1</td>\n",
              "      <td>2.569917</td>\n",
              "      <td>0</td>\n",
              "      <td>0</td>\n",
              "      <td>45.527997</td>\n",
              "      <td>0</td>\n",
              "    </tr>\n",
              "    <tr>\n",
              "      <th>7</th>\n",
              "      <td>40</td>\n",
              "      <td>31.152253</td>\n",
              "      <td>1.396013</td>\n",
              "      <td>0</td>\n",
              "      <td>0</td>\n",
              "      <td>6.641528</td>\n",
              "      <td>0</td>\n",
              "      <td>0</td>\n",
              "      <td>88.226766</td>\n",
              "      <td>0</td>\n",
              "    </tr>\n",
              "    <tr>\n",
              "      <th>8</th>\n",
              "      <td>58</td>\n",
              "      <td>27.483346</td>\n",
              "      <td>11.093754</td>\n",
              "      <td>1</td>\n",
              "      <td>0</td>\n",
              "      <td>4.193878</td>\n",
              "      <td>0</td>\n",
              "      <td>0</td>\n",
              "      <td>37.607603</td>\n",
              "      <td>1</td>\n",
              "    </tr>\n",
              "    <tr>\n",
              "      <th>9</th>\n",
              "      <td>77</td>\n",
              "      <td>21.650482</td>\n",
              "      <td>14.955887</td>\n",
              "      <td>1</td>\n",
              "      <td>1</td>\n",
              "      <td>9.654107</td>\n",
              "      <td>0</td>\n",
              "      <td>0</td>\n",
              "      <td>34.419683</td>\n",
              "      <td>1</td>\n",
              "    </tr>\n",
              "  </tbody>\n",
              "</table>\n",
              "</div>\n",
              "    <div class=\"colab-df-buttons\">\n",
              "\n",
              "  <div class=\"colab-df-container\">\n",
              "    <button class=\"colab-df-convert\" onclick=\"convertToInteractive('df-c98e6c16-19f5-4866-bb48-f6ce2b294cfc')\"\n",
              "            title=\"Convert this dataframe to an interactive table.\"\n",
              "            style=\"display:none;\">\n",
              "\n",
              "  <svg xmlns=\"http://www.w3.org/2000/svg\" height=\"24px\" viewBox=\"0 -960 960 960\">\n",
              "    <path d=\"M120-120v-720h720v720H120Zm60-500h600v-160H180v160Zm220 220h160v-160H400v160Zm0 220h160v-160H400v160ZM180-400h160v-160H180v160Zm440 0h160v-160H620v160ZM180-180h160v-160H180v160Zm440 0h160v-160H620v160Z\"/>\n",
              "  </svg>\n",
              "    </button>\n",
              "\n",
              "  <style>\n",
              "    .colab-df-container {\n",
              "      display:flex;\n",
              "      gap: 12px;\n",
              "    }\n",
              "\n",
              "    .colab-df-convert {\n",
              "      background-color: #E8F0FE;\n",
              "      border: none;\n",
              "      border-radius: 50%;\n",
              "      cursor: pointer;\n",
              "      display: none;\n",
              "      fill: #1967D2;\n",
              "      height: 32px;\n",
              "      padding: 0 0 0 0;\n",
              "      width: 32px;\n",
              "    }\n",
              "\n",
              "    .colab-df-convert:hover {\n",
              "      background-color: #E2EBFA;\n",
              "      box-shadow: 0px 1px 2px rgba(60, 64, 67, 0.3), 0px 1px 3px 1px rgba(60, 64, 67, 0.15);\n",
              "      fill: #174EA6;\n",
              "    }\n",
              "\n",
              "    .colab-df-buttons div {\n",
              "      margin-bottom: 4px;\n",
              "    }\n",
              "\n",
              "    [theme=dark] .colab-df-convert {\n",
              "      background-color: #3B4455;\n",
              "      fill: #D2E3FC;\n",
              "    }\n",
              "\n",
              "    [theme=dark] .colab-df-convert:hover {\n",
              "      background-color: #434B5C;\n",
              "      box-shadow: 0px 1px 3px 1px rgba(0, 0, 0, 0.15);\n",
              "      filter: drop-shadow(0px 1px 2px rgba(0, 0, 0, 0.3));\n",
              "      fill: #FFFFFF;\n",
              "    }\n",
              "  </style>\n",
              "\n",
              "    <script>\n",
              "      const buttonEl =\n",
              "        document.querySelector('#df-c98e6c16-19f5-4866-bb48-f6ce2b294cfc button.colab-df-convert');\n",
              "      buttonEl.style.display =\n",
              "        google.colab.kernel.accessAllowed ? 'block' : 'none';\n",
              "\n",
              "      async function convertToInteractive(key) {\n",
              "        const element = document.querySelector('#df-c98e6c16-19f5-4866-bb48-f6ce2b294cfc');\n",
              "        const dataTable =\n",
              "          await google.colab.kernel.invokeFunction('convertToInteractive',\n",
              "                                                    [key], {});\n",
              "        if (!dataTable) return;\n",
              "\n",
              "        const docLinkHtml = 'Like what you see? Visit the ' +\n",
              "          '<a target=\"_blank\" href=https://colab.research.google.com/notebooks/data_table.ipynb>data table notebook</a>'\n",
              "          + ' to learn more about interactive tables.';\n",
              "        element.innerHTML = '';\n",
              "        dataTable['output_type'] = 'display_data';\n",
              "        await google.colab.output.renderOutput(dataTable, element);\n",
              "        const docLink = document.createElement('div');\n",
              "        docLink.innerHTML = docLinkHtml;\n",
              "        element.appendChild(docLink);\n",
              "      }\n",
              "    </script>\n",
              "  </div>\n",
              "\n",
              "\n",
              "<div id=\"df-d990b241-ebfa-4bec-8240-fd24dcf9a5ba\">\n",
              "  <button class=\"colab-df-quickchart\" onclick=\"quickchart('df-d990b241-ebfa-4bec-8240-fd24dcf9a5ba')\"\n",
              "            title=\"Suggest charts\"\n",
              "            style=\"display:none;\">\n",
              "\n",
              "<svg xmlns=\"http://www.w3.org/2000/svg\" height=\"24px\"viewBox=\"0 0 24 24\"\n",
              "     width=\"24px\">\n",
              "    <g>\n",
              "        <path d=\"M19 3H5c-1.1 0-2 .9-2 2v14c0 1.1.9 2 2 2h14c1.1 0 2-.9 2-2V5c0-1.1-.9-2-2-2zM9 17H7v-7h2v7zm4 0h-2V7h2v10zm4 0h-2v-4h2v4z\"/>\n",
              "    </g>\n",
              "</svg>\n",
              "  </button>\n",
              "\n",
              "<style>\n",
              "  .colab-df-quickchart {\n",
              "      --bg-color: #E8F0FE;\n",
              "      --fill-color: #1967D2;\n",
              "      --hover-bg-color: #E2EBFA;\n",
              "      --hover-fill-color: #174EA6;\n",
              "      --disabled-fill-color: #AAA;\n",
              "      --disabled-bg-color: #DDD;\n",
              "  }\n",
              "\n",
              "  [theme=dark] .colab-df-quickchart {\n",
              "      --bg-color: #3B4455;\n",
              "      --fill-color: #D2E3FC;\n",
              "      --hover-bg-color: #434B5C;\n",
              "      --hover-fill-color: #FFFFFF;\n",
              "      --disabled-bg-color: #3B4455;\n",
              "      --disabled-fill-color: #666;\n",
              "  }\n",
              "\n",
              "  .colab-df-quickchart {\n",
              "    background-color: var(--bg-color);\n",
              "    border: none;\n",
              "    border-radius: 50%;\n",
              "    cursor: pointer;\n",
              "    display: none;\n",
              "    fill: var(--fill-color);\n",
              "    height: 32px;\n",
              "    padding: 0;\n",
              "    width: 32px;\n",
              "  }\n",
              "\n",
              "  .colab-df-quickchart:hover {\n",
              "    background-color: var(--hover-bg-color);\n",
              "    box-shadow: 0 1px 2px rgba(60, 64, 67, 0.3), 0 1px 3px 1px rgba(60, 64, 67, 0.15);\n",
              "    fill: var(--button-hover-fill-color);\n",
              "  }\n",
              "\n",
              "  .colab-df-quickchart-complete:disabled,\n",
              "  .colab-df-quickchart-complete:disabled:hover {\n",
              "    background-color: var(--disabled-bg-color);\n",
              "    fill: var(--disabled-fill-color);\n",
              "    box-shadow: none;\n",
              "  }\n",
              "\n",
              "  .colab-df-spinner {\n",
              "    border: 2px solid var(--fill-color);\n",
              "    border-color: transparent;\n",
              "    border-bottom-color: var(--fill-color);\n",
              "    animation:\n",
              "      spin 1s steps(1) infinite;\n",
              "  }\n",
              "\n",
              "  @keyframes spin {\n",
              "    0% {\n",
              "      border-color: transparent;\n",
              "      border-bottom-color: var(--fill-color);\n",
              "      border-left-color: var(--fill-color);\n",
              "    }\n",
              "    20% {\n",
              "      border-color: transparent;\n",
              "      border-left-color: var(--fill-color);\n",
              "      border-top-color: var(--fill-color);\n",
              "    }\n",
              "    30% {\n",
              "      border-color: transparent;\n",
              "      border-left-color: var(--fill-color);\n",
              "      border-top-color: var(--fill-color);\n",
              "      border-right-color: var(--fill-color);\n",
              "    }\n",
              "    40% {\n",
              "      border-color: transparent;\n",
              "      border-right-color: var(--fill-color);\n",
              "      border-top-color: var(--fill-color);\n",
              "    }\n",
              "    60% {\n",
              "      border-color: transparent;\n",
              "      border-right-color: var(--fill-color);\n",
              "    }\n",
              "    80% {\n",
              "      border-color: transparent;\n",
              "      border-right-color: var(--fill-color);\n",
              "      border-bottom-color: var(--fill-color);\n",
              "    }\n",
              "    90% {\n",
              "      border-color: transparent;\n",
              "      border-bottom-color: var(--fill-color);\n",
              "    }\n",
              "  }\n",
              "</style>\n",
              "\n",
              "  <script>\n",
              "    async function quickchart(key) {\n",
              "      const quickchartButtonEl =\n",
              "        document.querySelector('#' + key + ' button');\n",
              "      quickchartButtonEl.disabled = true;  // To prevent multiple clicks.\n",
              "      quickchartButtonEl.classList.add('colab-df-spinner');\n",
              "      try {\n",
              "        const charts = await google.colab.kernel.invokeFunction(\n",
              "            'suggestCharts', [key], {});\n",
              "      } catch (error) {\n",
              "        console.error('Error during call to suggestCharts:', error);\n",
              "      }\n",
              "      quickchartButtonEl.classList.remove('colab-df-spinner');\n",
              "      quickchartButtonEl.classList.add('colab-df-quickchart-complete');\n",
              "    }\n",
              "    (() => {\n",
              "      let quickchartButtonEl =\n",
              "        document.querySelector('#df-d990b241-ebfa-4bec-8240-fd24dcf9a5ba button');\n",
              "      quickchartButtonEl.style.display =\n",
              "        google.colab.kernel.accessAllowed ? 'block' : 'none';\n",
              "    })();\n",
              "  </script>\n",
              "</div>\n",
              "\n",
              "    </div>\n",
              "  </div>\n"
            ],
            "application/vnd.google.colaboratory.intrinsic+json": {
              "type": "dataframe",
              "variable_name": "df",
              "summary": "{\n  \"name\": \"df\",\n  \"rows\": 1700,\n  \"fields\": [\n    {\n      \"column\": \"Age\",\n      \"properties\": {\n        \"dtype\": \"number\",\n        \"std\": 17,\n        \"min\": 20,\n        \"max\": 80,\n        \"num_unique_values\": 61,\n        \"samples\": [\n          58,\n          27,\n          36\n        ],\n        \"semantic_type\": \"\",\n        \"description\": \"\"\n      }\n    },\n    {\n      \"column\": \"BMI\",\n      \"properties\": {\n        \"dtype\": \"number\",\n        \"std\": 7.210400128735178,\n        \"min\": 15.004709988914549,\n        \"max\": 39.99284510389785,\n        \"num_unique_values\": 1700,\n        \"samples\": [\n          33.83986576864382,\n          17.698592866161608,\n          33.54280153782325\n        ],\n        \"semantic_type\": \"\",\n        \"description\": \"\"\n      }\n    },\n    {\n      \"column\": \"AlcoholConsumption\",\n      \"properties\": {\n        \"dtype\": \"number\",\n        \"std\": 5.757471556281799,\n        \"min\": 0.0037305634132622,\n        \"max\": 19.952456445027707,\n        \"num_unique_values\": 1700,\n        \"samples\": [\n          15.82568584993367,\n          19.83545761958499,\n          10.277014691531958\n        ],\n        \"semantic_type\": \"\",\n        \"description\": \"\"\n      }\n    },\n    {\n      \"column\": \"Smoking\",\n      \"properties\": {\n        \"dtype\": \"number\",\n        \"std\": 0,\n        \"min\": 0,\n        \"max\": 1,\n        \"num_unique_values\": 2,\n        \"samples\": [\n          1,\n          0\n        ],\n        \"semantic_type\": \"\",\n        \"description\": \"\"\n      }\n    },\n    {\n      \"column\": \"GeneticRisk\",\n      \"properties\": {\n        \"dtype\": \"number\",\n        \"std\": 0,\n        \"min\": 0,\n        \"max\": 2,\n        \"num_unique_values\": 3,\n        \"samples\": [\n          1,\n          0\n        ],\n        \"semantic_type\": \"\",\n        \"description\": \"\"\n      }\n    },\n    {\n      \"column\": \"PhysicalActivity\",\n      \"properties\": {\n        \"dtype\": \"number\",\n        \"std\": 2.8470737759397733,\n        \"min\": 0.001851952954428,\n        \"max\": 9.994963504187217,\n        \"num_unique_values\": 1700,\n        \"samples\": [\n          4.692899109374828,\n          6.537645030932362\n        ],\n        \"semantic_type\": \"\",\n        \"description\": \"\"\n      }\n    },\n    {\n      \"column\": \"Diabetes\",\n      \"properties\": {\n        \"dtype\": \"number\",\n        \"std\": 0,\n        \"min\": 0,\n        \"max\": 1,\n        \"num_unique_values\": 2,\n        \"samples\": [\n          1,\n          0\n        ],\n        \"semantic_type\": \"\",\n        \"description\": \"\"\n      }\n    },\n    {\n      \"column\": \"Hypertension\",\n      \"properties\": {\n        \"dtype\": \"number\",\n        \"std\": 0,\n        \"min\": 0,\n        \"max\": 1,\n        \"num_unique_values\": 2,\n        \"samples\": [\n          1,\n          0\n        ],\n        \"semantic_type\": \"\",\n        \"description\": \"\"\n      }\n    },\n    {\n      \"column\": \"LiverFunctionTest\",\n      \"properties\": {\n        \"dtype\": \"number\",\n        \"std\": 22.996262337592913,\n        \"min\": 20.01925357943218,\n        \"max\": 99.99141333640394,\n        \"num_unique_values\": 1700,\n        \"samples\": [\n          75.07370769945327,\n          22.147834753253303\n        ],\n        \"semantic_type\": \"\",\n        \"description\": \"\"\n      }\n    },\n    {\n      \"column\": \"Diagnosis\",\n      \"properties\": {\n        \"dtype\": \"number\",\n        \"std\": 0,\n        \"min\": 0,\n        \"max\": 1,\n        \"num_unique_values\": 2,\n        \"samples\": [\n          0,\n          1\n        ],\n        \"semantic_type\": \"\",\n        \"description\": \"\"\n      }\n    }\n  ]\n}"
            }
          },
          "metadata": {},
          "execution_count": 8
        }
      ]
    },
    {
      "cell_type": "code",
      "source": [
        "df.info()"
      ],
      "metadata": {
        "colab": {
          "base_uri": "https://localhost:8080/"
        },
        "id": "m-WhNdxppTC9",
        "outputId": "fc0bfe58-0876-4af2-8bf4-d018e551e1d6"
      },
      "execution_count": null,
      "outputs": [
        {
          "output_type": "stream",
          "name": "stdout",
          "text": [
            "<class 'pandas.core.frame.DataFrame'>\n",
            "RangeIndex: 1700 entries, 0 to 1699\n",
            "Data columns (total 10 columns):\n",
            " #   Column              Non-Null Count  Dtype  \n",
            "---  ------              --------------  -----  \n",
            " 0   Age                 1700 non-null   int64  \n",
            " 1   BMI                 1700 non-null   float64\n",
            " 2   AlcoholConsumption  1700 non-null   float64\n",
            " 3   Smoking             1700 non-null   int64  \n",
            " 4   GeneticRisk         1700 non-null   int64  \n",
            " 5   PhysicalActivity    1700 non-null   float64\n",
            " 6   Diabetes            1700 non-null   int64  \n",
            " 7   Hypertension        1700 non-null   int64  \n",
            " 8   LiverFunctionTest   1700 non-null   float64\n",
            " 9   Diagnosis           1700 non-null   int64  \n",
            "dtypes: float64(4), int64(6)\n",
            "memory usage: 132.9 KB\n"
          ]
        }
      ]
    },
    {
      "cell_type": "code",
      "source": [
        "for column in df.columns:\n",
        "    print(f\"Jumlah nilai di kolom {column}: {df[column].count()}\")"
      ],
      "metadata": {
        "colab": {
          "base_uri": "https://localhost:8080/"
        },
        "id": "_raypGvY7JDF",
        "outputId": "eca20b14-a128-4d0b-dd63-8decb1b3b710"
      },
      "execution_count": null,
      "outputs": [
        {
          "output_type": "stream",
          "name": "stdout",
          "text": [
            "Jumlah nilai di kolom Age: 1700\n",
            "Jumlah nilai di kolom BMI: 1700\n",
            "Jumlah nilai di kolom AlcoholConsumption: 1700\n",
            "Jumlah nilai di kolom Smoking: 1700\n",
            "Jumlah nilai di kolom GeneticRisk: 1700\n",
            "Jumlah nilai di kolom PhysicalActivity: 1700\n",
            "Jumlah nilai di kolom Diabetes: 1700\n",
            "Jumlah nilai di kolom Hypertension: 1700\n",
            "Jumlah nilai di kolom LiverFunctionTest: 1700\n",
            "Jumlah nilai di kolom Diagnosis: 1700\n"
          ]
        }
      ]
    },
    {
      "cell_type": "code",
      "source": [
        "X = df.drop(labels=['Diagnosis'],axis=1).values\n",
        "y = df['Diagnosis']"
      ],
      "metadata": {
        "id": "5ZKZzrRwxrYy"
      },
      "execution_count": null,
      "outputs": []
    },
    {
      "cell_type": "code",
      "source": [
        "X_train,X_test,y_train,y_test = train_test_split(X,y,test_size=0.3,random_state=42,stratify=y)\n",
        "\n",
        "print('train shape', X_train.shape)\n",
        "print('test shape', X_test.shape)"
      ],
      "metadata": {
        "id": "70LEIKPhyJhf",
        "colab": {
          "base_uri": "https://localhost:8080/"
        },
        "outputId": "c4517fb8-96d6-48ea-c2ad-2bbdf1582002"
      },
      "execution_count": null,
      "outputs": [
        {
          "output_type": "stream",
          "name": "stdout",
          "text": [
            "train shape (1190, 9)\n",
            "test shape (510, 9)\n"
          ]
        }
      ]
    },
    {
      "cell_type": "code",
      "source": [
        "model = Sequential()\n",
        "\n",
        "model.add(Dense(8,activation='relu',input_dim=X.shape[-1]))\n",
        "model.add(Dense(16,activation='relu'))\n",
        "model.add(Dense(3,activation='softmax'))"
      ],
      "metadata": {
        "id": "qKl3t8-XyvDf"
      },
      "execution_count": null,
      "outputs": []
    },
    {
      "cell_type": "code",
      "source": [
        "model.summary()"
      ],
      "metadata": {
        "id": "55CMIYhVzD8s",
        "colab": {
          "base_uri": "https://localhost:8080/"
        },
        "outputId": "67d92862-d634-4b9e-c9a0-3e1dee76ed87"
      },
      "execution_count": null,
      "outputs": [
        {
          "output_type": "stream",
          "name": "stdout",
          "text": [
            "Model: \"sequential\"\n",
            "_________________________________________________________________\n",
            " Layer (type)                Output Shape              Param #   \n",
            "=================================================================\n",
            " dense (Dense)               (None, 8)                 80        \n",
            "                                                                 \n",
            " dense_1 (Dense)             (None, 16)                144       \n",
            "                                                                 \n",
            " dense_2 (Dense)             (None, 3)                 51        \n",
            "                                                                 \n",
            "=================================================================\n",
            "Total params: 275 (1.07 KB)\n",
            "Trainable params: 275 (1.07 KB)\n",
            "Non-trainable params: 0 (0.00 Byte)\n",
            "_________________________________________________________________\n"
          ]
        }
      ]
    },
    {
      "cell_type": "code",
      "source": [
        "optim = Adam(lr=0.001)\n",
        "model.compile(loss='sparse_categorical_crossentropy',\n",
        "              optimizer=optim,\n",
        "              metrics=['acc'])\n",
        "\n",
        "batch_size=1\n",
        "epochs=50\n",
        "\n",
        "history = model.fit(X_train,y_train,\n",
        "                    batch_size=batch_size,\n",
        "                    epochs=epochs,\n",
        "                    verbose=1,\n",
        "                    shuffle=True,\n",
        "                    validation_split=0.1)"
      ],
      "metadata": {
        "id": "dIRhkdGWzPhz",
        "colab": {
          "base_uri": "https://localhost:8080/"
        },
        "outputId": "f910b597-839e-42d6-9585-45fa76ce68f0"
      },
      "execution_count": null,
      "outputs": [
        {
          "output_type": "stream",
          "name": "stderr",
          "text": [
            "WARNING:absl:`lr` is deprecated in Keras optimizer, please use `learning_rate` or use the legacy optimizer, e.g.,tf.keras.optimizers.legacy.Adam.\n"
          ]
        },
        {
          "output_type": "stream",
          "name": "stdout",
          "text": [
            "Epoch 1/50\n",
            "1071/1071 [==============================] - 13s 9ms/step - loss: 0.9276 - acc: 0.5472 - val_loss: 0.6434 - val_acc: 0.5966\n",
            "Epoch 2/50\n",
            "1071/1071 [==============================] - 14s 13ms/step - loss: 0.6372 - acc: 0.6172 - val_loss: 0.6413 - val_acc: 0.6303\n",
            "Epoch 3/50\n",
            "1071/1071 [==============================] - 7s 6ms/step - loss: 0.6130 - acc: 0.6517 - val_loss: 0.6232 - val_acc: 0.6807\n",
            "Epoch 4/50\n",
            "1071/1071 [==============================] - 3s 3ms/step - loss: 0.5909 - acc: 0.6751 - val_loss: 0.6237 - val_acc: 0.6303\n",
            "Epoch 5/50\n",
            "1071/1071 [==============================] - 3s 3ms/step - loss: 0.5679 - acc: 0.6844 - val_loss: 0.6454 - val_acc: 0.6639\n",
            "Epoch 6/50\n",
            "1071/1071 [==============================] - 3s 3ms/step - loss: 0.5566 - acc: 0.7106 - val_loss: 0.6414 - val_acc: 0.6975\n",
            "Epoch 7/50\n",
            "1071/1071 [==============================] - 3s 3ms/step - loss: 0.5429 - acc: 0.7218 - val_loss: 0.6194 - val_acc: 0.7059\n",
            "Epoch 8/50\n",
            "1071/1071 [==============================] - 2s 2ms/step - loss: 0.5300 - acc: 0.7264 - val_loss: 0.6091 - val_acc: 0.6723\n",
            "Epoch 9/50\n",
            "1071/1071 [==============================] - 3s 2ms/step - loss: 0.5149 - acc: 0.7563 - val_loss: 0.6021 - val_acc: 0.6807\n",
            "Epoch 10/50\n",
            "1071/1071 [==============================] - 3s 3ms/step - loss: 0.5142 - acc: 0.7460 - val_loss: 0.5731 - val_acc: 0.7227\n",
            "Epoch 11/50\n",
            "1071/1071 [==============================] - 4s 3ms/step - loss: 0.4994 - acc: 0.7507 - val_loss: 0.5728 - val_acc: 0.7479\n",
            "Epoch 12/50\n",
            "1071/1071 [==============================] - 2s 2ms/step - loss: 0.4987 - acc: 0.7591 - val_loss: 0.5878 - val_acc: 0.7143\n",
            "Epoch 13/50\n",
            "1071/1071 [==============================] - 2s 2ms/step - loss: 0.4880 - acc: 0.7628 - val_loss: 0.5848 - val_acc: 0.7059\n",
            "Epoch 14/50\n",
            "1071/1071 [==============================] - 2s 2ms/step - loss: 0.4850 - acc: 0.7591 - val_loss: 0.5705 - val_acc: 0.7143\n",
            "Epoch 15/50\n",
            "1071/1071 [==============================] - 2s 2ms/step - loss: 0.4743 - acc: 0.7638 - val_loss: 0.5388 - val_acc: 0.7815\n",
            "Epoch 16/50\n",
            "1071/1071 [==============================] - 3s 2ms/step - loss: 0.4676 - acc: 0.7731 - val_loss: 0.6240 - val_acc: 0.6891\n",
            "Epoch 17/50\n",
            "1071/1071 [==============================] - 3s 3ms/step - loss: 0.4703 - acc: 0.7740 - val_loss: 0.6404 - val_acc: 0.6723\n",
            "Epoch 18/50\n",
            "1071/1071 [==============================] - 2s 2ms/step - loss: 0.4604 - acc: 0.7815 - val_loss: 0.5406 - val_acc: 0.7815\n",
            "Epoch 19/50\n",
            "1071/1071 [==============================] - 2s 2ms/step - loss: 0.4600 - acc: 0.7899 - val_loss: 0.5338 - val_acc: 0.7395\n",
            "Epoch 20/50\n",
            "1071/1071 [==============================] - 2s 2ms/step - loss: 0.4575 - acc: 0.7937 - val_loss: 0.5346 - val_acc: 0.7311\n",
            "Epoch 21/50\n",
            "1071/1071 [==============================] - 2s 2ms/step - loss: 0.4489 - acc: 0.7834 - val_loss: 0.5516 - val_acc: 0.7395\n",
            "Epoch 22/50\n",
            "1071/1071 [==============================] - 2s 2ms/step - loss: 0.4480 - acc: 0.7993 - val_loss: 0.5401 - val_acc: 0.7563\n",
            "Epoch 23/50\n",
            "1071/1071 [==============================] - 3s 3ms/step - loss: 0.4382 - acc: 0.7937 - val_loss: 0.5303 - val_acc: 0.7899\n",
            "Epoch 24/50\n",
            "1071/1071 [==============================] - 2s 2ms/step - loss: 0.4388 - acc: 0.8105 - val_loss: 0.5760 - val_acc: 0.7059\n",
            "Epoch 25/50\n",
            "1071/1071 [==============================] - 2s 2ms/step - loss: 0.4337 - acc: 0.7834 - val_loss: 0.5498 - val_acc: 0.7647\n",
            "Epoch 26/50\n",
            "1071/1071 [==============================] - 2s 2ms/step - loss: 0.4396 - acc: 0.7983 - val_loss: 0.5452 - val_acc: 0.7899\n",
            "Epoch 27/50\n",
            "1071/1071 [==============================] - 2s 2ms/step - loss: 0.4325 - acc: 0.8058 - val_loss: 0.5860 - val_acc: 0.7227\n",
            "Epoch 28/50\n",
            "1071/1071 [==============================] - 2s 2ms/step - loss: 0.4317 - acc: 0.8039 - val_loss: 0.5269 - val_acc: 0.7899\n",
            "Epoch 29/50\n",
            "1071/1071 [==============================] - 3s 3ms/step - loss: 0.4321 - acc: 0.7871 - val_loss: 0.5565 - val_acc: 0.7479\n",
            "Epoch 30/50\n",
            "1071/1071 [==============================] - 2s 2ms/step - loss: 0.4273 - acc: 0.8067 - val_loss: 0.5440 - val_acc: 0.7731\n",
            "Epoch 31/50\n",
            "1071/1071 [==============================] - 2s 2ms/step - loss: 0.4290 - acc: 0.8077 - val_loss: 0.5366 - val_acc: 0.7815\n",
            "Epoch 32/50\n",
            "1071/1071 [==============================] - 2s 2ms/step - loss: 0.4289 - acc: 0.7946 - val_loss: 0.5642 - val_acc: 0.7731\n",
            "Epoch 33/50\n",
            "1071/1071 [==============================] - 2s 2ms/step - loss: 0.4208 - acc: 0.8207 - val_loss: 0.5442 - val_acc: 0.7815\n",
            "Epoch 34/50\n",
            "1071/1071 [==============================] - 3s 3ms/step - loss: 0.4252 - acc: 0.8189 - val_loss: 0.5314 - val_acc: 0.7983\n",
            "Epoch 35/50\n",
            "1071/1071 [==============================] - 3s 2ms/step - loss: 0.4277 - acc: 0.8049 - val_loss: 0.5304 - val_acc: 0.7731\n",
            "Epoch 36/50\n",
            "1071/1071 [==============================] - 2s 2ms/step - loss: 0.4215 - acc: 0.8142 - val_loss: 0.5981 - val_acc: 0.7479\n",
            "Epoch 37/50\n",
            "1071/1071 [==============================] - 2s 2ms/step - loss: 0.4242 - acc: 0.8067 - val_loss: 0.5391 - val_acc: 0.7899\n",
            "Epoch 38/50\n",
            "1071/1071 [==============================] - 2s 2ms/step - loss: 0.4222 - acc: 0.8217 - val_loss: 0.5784 - val_acc: 0.7143\n",
            "Epoch 39/50\n",
            "1071/1071 [==============================] - 2s 2ms/step - loss: 0.4205 - acc: 0.8002 - val_loss: 0.5726 - val_acc: 0.7479\n",
            "Epoch 40/50\n",
            "1071/1071 [==============================] - 5s 4ms/step - loss: 0.4160 - acc: 0.8095 - val_loss: 0.5445 - val_acc: 0.7815\n",
            "Epoch 41/50\n",
            "1071/1071 [==============================] - 3s 3ms/step - loss: 0.4112 - acc: 0.8105 - val_loss: 0.6297 - val_acc: 0.7311\n",
            "Epoch 42/50\n",
            "1071/1071 [==============================] - 8s 7ms/step - loss: 0.4191 - acc: 0.8151 - val_loss: 0.5588 - val_acc: 0.7563\n",
            "Epoch 43/50\n",
            "1071/1071 [==============================] - 4s 4ms/step - loss: 0.4171 - acc: 0.8021 - val_loss: 0.5477 - val_acc: 0.8067\n",
            "Epoch 44/50\n",
            "1071/1071 [==============================] - 3s 2ms/step - loss: 0.4094 - acc: 0.8207 - val_loss: 0.6105 - val_acc: 0.7479\n",
            "Epoch 45/50\n",
            "1071/1071 [==============================] - 2s 2ms/step - loss: 0.4126 - acc: 0.8161 - val_loss: 0.5663 - val_acc: 0.7815\n",
            "Epoch 46/50\n",
            "1071/1071 [==============================] - 2s 2ms/step - loss: 0.4172 - acc: 0.8049 - val_loss: 0.5477 - val_acc: 0.7983\n",
            "Epoch 47/50\n",
            "1071/1071 [==============================] - 2s 2ms/step - loss: 0.4111 - acc: 0.8217 - val_loss: 0.5718 - val_acc: 0.7647\n",
            "Epoch 48/50\n",
            "1071/1071 [==============================] - 3s 3ms/step - loss: 0.4176 - acc: 0.8123 - val_loss: 0.5548 - val_acc: 0.7899\n",
            "Epoch 49/50\n",
            "1071/1071 [==============================] - 2s 2ms/step - loss: 0.4113 - acc: 0.8226 - val_loss: 0.5396 - val_acc: 0.8067\n",
            "Epoch 50/50\n",
            "1071/1071 [==============================] - 2s 2ms/step - loss: 0.4101 - acc: 0.8114 - val_loss: 0.5646 - val_acc: 0.7479\n"
          ]
        }
      ]
    },
    {
      "cell_type": "code",
      "source": [
        "from sklearn.metrics import accuracy_score\n",
        "pred = np.argmax(model.predict(X_test),axis=1)\n",
        "print(accuracy_score(y_test,pred))"
      ],
      "metadata": {
        "id": "viHXoQHH0U4H",
        "colab": {
          "base_uri": "https://localhost:8080/"
        },
        "outputId": "bec17466-0f9c-4901-89b4-d96e704bb868"
      },
      "execution_count": null,
      "outputs": [
        {
          "output_type": "stream",
          "name": "stdout",
          "text": [
            "16/16 [==============================] - 0s 2ms/step\n",
            "0.807843137254902\n"
          ]
        }
      ]
    },
    {
      "cell_type": "code",
      "source": [
        "model.save('./liver.h5')"
      ],
      "metadata": {
        "id": "jpUTECBW0soY",
        "colab": {
          "base_uri": "https://localhost:8080/"
        },
        "outputId": "abda5a00-4895-43d5-b50f-3971a0b70ffb"
      },
      "execution_count": null,
      "outputs": [
        {
          "output_type": "stream",
          "name": "stderr",
          "text": [
            "/usr/local/lib/python3.10/dist-packages/keras/src/engine/training.py:3103: UserWarning: You are saving your model as an HDF5 file via `model.save()`. This file format is considered legacy. We recommend using instead the native Keras format, e.g. `model.save('my_model.keras')`.\n",
            "  saving_api.save_model(\n"
          ]
        }
      ]
    },
    {
      "cell_type": "code",
      "source": [
        "model = tf.keras.models.load_model('./liver.h5')\n",
        "converter = tf.lite.TFLiteConverter.from_keras_model(model)\n",
        "converter.optimizations = [tf.lite.Optimize.DEFAULT]\n",
        "tflite_model = converter.convert()\n",
        "open(\"./liver.tflite\",\"wb\").write(tflite_model)"
      ],
      "metadata": {
        "id": "eKzLzSWv0zCR",
        "colab": {
          "base_uri": "https://localhost:8080/"
        },
        "outputId": "eb017691-fa90-4e64-c995-60ac124dff30"
      },
      "execution_count": null,
      "outputs": [
        {
          "output_type": "execute_result",
          "data": {
            "text/plain": [
              "3196"
            ]
          },
          "metadata": {},
          "execution_count": 18
        }
      ]
    }
  ]
}